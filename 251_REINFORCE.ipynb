{
  "cells": [
    {
      "cell_type": "markdown",
      "id": "b961f69b",
      "metadata": {
        "id": "b961f69b"
      },
      "source": [
        "# 251. REINFORCE Algorithm\n",
        "\n",
        "- Monte-Carlo method를 통해 구한 episodic sample 의 estimated return을 이용하여 policy parameter 𝜃를 update해 나가는 기법\n",
        "\n",
        "- REINFORCE 갱신 규칙\n",
        "\n",
        "$$\\Delta\\theta_t = \\alpha\\nabla_\\theta\\log{\\pi_\\theta}(s, a)G_t$$\n",
        "\n",
        "- 따라서, Loss function 은\n",
        "$$-G_t\\log{\\pi_\\theta}(s, a)$$\n",
        "\n",
        "```\n",
        "                log_prob = torch.log(pi(state_tensor))\n",
        "                selected_log_probs = reward_tensor * \\\n",
        "                        torch.gather(log_prob, 1, action_tensor.unsqueeze(1)).squeeze()\n",
        "                loss = -1 * selected_log_probs.mean()\n",
        "```"
      ]
    },
    {
      "cell_type": "code",
      "execution_count": 1,
      "id": "66LOQ1jzfjux",
      "metadata": {
        "colab": {
          "base_uri": "https://localhost:8080/"
        },
        "id": "66LOQ1jzfjux",
        "outputId": "06cd1a09-f81d-4fa6-f473-d71204c9e040"
      },
      "outputs": [
        {
          "output_type": "stream",
          "name": "stdout",
          "text": [
            "Reading package lists... Done\n",
            "Building dependency tree... Done\n",
            "Reading state information... Done\n",
            "swig is already the newest version (4.0.2-1ubuntu1).\n",
            "0 upgraded, 0 newly installed, 0 to remove and 35 not upgraded.\n",
            "Requirement already satisfied: gymnasium[box2d] in /usr/local/lib/python3.11/dist-packages (1.2.0)\n",
            "Requirement already satisfied: numpy>=1.21.0 in /usr/local/lib/python3.11/dist-packages (from gymnasium[box2d]) (2.0.2)\n",
            "Requirement already satisfied: cloudpickle>=1.2.0 in /usr/local/lib/python3.11/dist-packages (from gymnasium[box2d]) (3.1.1)\n",
            "Requirement already satisfied: typing-extensions>=4.3.0 in /usr/local/lib/python3.11/dist-packages (from gymnasium[box2d]) (4.14.1)\n",
            "Requirement already satisfied: farama-notifications>=0.0.1 in /usr/local/lib/python3.11/dist-packages (from gymnasium[box2d]) (0.0.4)\n",
            "Requirement already satisfied: box2d-py==2.3.5 in /usr/local/lib/python3.11/dist-packages (from gymnasium[box2d]) (2.3.5)\n",
            "Requirement already satisfied: pygame>=2.1.3 in /usr/local/lib/python3.11/dist-packages (from gymnasium[box2d]) (2.6.1)\n",
            "Requirement already satisfied: swig==4.* in /usr/local/lib/python3.11/dist-packages (from gymnasium[box2d]) (4.3.1)\n"
          ]
        }
      ],
      "source": [
        "# swig 설치 (Box2D와 같은 C/C++ 확장 모듈 빌드 시 필요)\n",
        "!apt-get install swig\n",
        "\n",
        "# gymnasium 라이브러리 설치 (box2d 환경 지원 포함)\n",
        "!pip install gymnasium[box2d]\n",
        "\n",
        "# 비디오 녹화 기능에 필요한 X 가상 프레임버퍼(xvfb)와 X11 유틸리티 설치\n",
        "# > tmp : 설치 로그를 tmp 파일로 리다이렉트\n",
        "!apt-get install -y xvfb x11-utils > tmp\n",
        "\n",
        "# 가상 디스플레이(pyvirtualdisplay) 설치 (버전 0.2.*로 고정)\n",
        "# - Colab이나 서버 환경에서 GUI 없이 환경 렌더링/비디오 생성 가능\n",
        "!pip install -q pyvirtualdisplay==0.2.*"
      ]
    },
    {
      "cell_type": "code",
      "execution_count": 15,
      "id": "dab7945e",
      "metadata": {
        "colab": {
          "base_uri": "https://localhost:8080/"
        },
        "id": "dab7945e",
        "outputId": "2eff46ed-4efc-4d12-ee24-09eb7058395f"
      },
      "outputs": [
        {
          "output_type": "stream",
          "name": "stdout",
          "text": [
            "cuda:0\n"
          ]
        }
      ],
      "source": [
        "import gymnasium as gym\n",
        "import matplotlib.pyplot as plt\n",
        "from IPython import display\n",
        "import numpy as np\n",
        "import torch\n",
        "import torch.nn as nn\n",
        "import torch.nn.functional as F\n",
        "import torch.optim as optim\n",
        "from torch.distributions import Categorical\n",
        "import time\n",
        "import os\n",
        "\n",
        "device = torch.device('cuda:0' if torch.cuda.is_available() else 'cpu')\n",
        "print(device)"
      ]
    },
    {
      "cell_type": "markdown",
      "id": "qCER-H6cO7Rh",
      "metadata": {
        "id": "qCER-H6cO7Rh"
      },
      "source": [
        "<img src=\"https://miro.medium.com/max/1400/1*4RncZNj1ij5A5eMJpexhrw.png\" width=700/>"
      ]
    },
    {
      "cell_type": "markdown",
      "id": "6814aa4c",
      "metadata": {
        "id": "6814aa4c"
      },
      "source": [
        "### 환경 초기화"
      ]
    },
    {
      "cell_type": "code",
      "execution_count": 19,
      "id": "lcYqBBfaQ_N5",
      "metadata": {
        "colab": {
          "base_uri": "https://localhost:8080/"
        },
        "id": "lcYqBBfaQ_N5",
        "outputId": "662f45b3-a8f9-4b16-e596-3c32b1067d21"
      },
      "outputs": [
        {
          "output_type": "stream",
          "name": "stdout",
          "text": [
            "[0 1]\n",
            "(4,) 2\n"
          ]
        }
      ],
      "source": [
        "ENV_NAME = 'CartPole-v1'\n",
        "# ENV_NAME = 'LunarLander-v3'\n",
        "\n",
        "# 환경 생성\n",
        "env = gym.make(ENV_NAME)\n",
        "\n",
        "# 행동 공간(Action space)을 정수 배열로 생성\n",
        "# 예: 행동이 4개면 [0, 1, 2, 3]\n",
        "action_space = np.arange(env.action_space.n)\n",
        "\n",
        "# 행동 공간 출력\n",
        "print(action_space)\n",
        "\n",
        "# 관측 공간(Observation space)의 형태와 행동 개수 출력\n",
        "# env.observation_space.shape: 관측 값의 차원\n",
        "# env.action_space.n: 가능한 행동의 개수\n",
        "print(env.observation_space.shape, env.action_space.n)"
      ]
    },
    {
      "cell_type": "markdown",
      "id": "420cc627",
      "metadata": {
        "id": "420cc627"
      },
      "source": [
        "### Policy Network 생성"
      ]
    },
    {
      "cell_type": "code",
      "execution_count": 20,
      "id": "31JBeBI4Q8Ye",
      "metadata": {
        "colab": {
          "base_uri": "https://localhost:8080/"
        },
        "id": "31JBeBI4Q8Ye",
        "outputId": "8099dbfe-d6dd-4094-b0bf-f2da577386f6"
      },
      "outputs": [
        {
          "output_type": "execute_result",
          "data": {
            "text/plain": [
              "PolicyNetwork(\n",
              "  (fc1): Linear(in_features=4, out_features=128, bias=True)\n",
              "  (fc2): Linear(in_features=128, out_features=2, bias=True)\n",
              ")"
            ]
          },
          "metadata": {},
          "execution_count": 20
        }
      ],
      "source": [
        "# 차별 가능한(differentiable) 정책 파라미터화 pi(a|s, θ) 정의\n",
        "class PolicyNetwork(nn.Module):\n",
        "    def __init__(self, input_dims, n_actions):\n",
        "        super(PolicyNetwork, self).__init__()\n",
        "        # 입력 차원(*input_dims) → 128개의 은닉 노드\n",
        "        self.fc1 = nn.Linear(*input_dims, 128)\n",
        "\n",
        "        # 128개의 은닉 노드 → 행동 개수(n_actions)\n",
        "        self.fc2 = nn.Linear(128, n_actions)\n",
        "\n",
        "    def forward(self, state):\n",
        "        # 첫 번째 층 통과 후 ReLU 활성화 함수 적용\n",
        "        x = F.relu(self.fc1(state))\n",
        "        # 두 번째 층 통과 후 Softmax 적용 → 각 행동에 대한 확률 분포 생성\n",
        "        prob = F.softmax(self.fc2(x), dim=-1)  # 마지막 차원을 기준으로 확률 계산\n",
        "        return prob\n",
        "\n",
        "# 파라미터 θ 초기화\n",
        "# env.observation_space.shape : 관측 값의 차원 (예: (4,))\n",
        "# env.action_space.n           : 행동의 개수 (예: 2)\n",
        "pi = PolicyNetwork(\n",
        "    input_dims=env.observation_space.shape,\n",
        "    n_actions=env.action_space.n\n",
        ").to(device)  # GPU 사용 가능 시 CUDA 디바이스에 로드\n",
        "\n",
        "# 네트워크 구조 출력\n",
        "pi"
      ]
    },
    {
      "cell_type": "markdown",
      "id": "0cce56db",
      "metadata": {
        "id": "0cce56db"
      },
      "source": [
        "### hyper-parameters 설정, reward 계산 도우미 함수 생성"
      ]
    },
    {
      "cell_type": "code",
      "execution_count": 21,
      "id": "5mlis98IThmm",
      "metadata": {
        "id": "5mlis98IThmm"
      },
      "outputs": [],
      "source": [
        "# 학습률(스텝 사이즈) 설정: 0 < alpha < 1\n",
        "alpha = 0.001\n",
        "\n",
        "# 할인율(감가율) 설정: 0 < gamma < 1\n",
        "gamma = 0.99\n",
        "\n",
        "# 최대 학습 에피소드 수 N\n",
        "N = 5_000\n",
        "\n",
        "# 한 번의 업데이트에 사용할 에피소드 수 (배치 크기)\n",
        "batch_size = 32\n",
        "\n",
        "# Adam 최적화 알고리즘을 사용하여 정책 네트워크(pi) 학습\n",
        "optimizer = optim.Adam(pi.parameters(), lr=alpha)\n",
        "\n",
        "total_rewards = []  # 각 에피소드별 총 보상 저장 리스트\n",
        "\n",
        "def discount_rewards(rewards):\n",
        "    \"\"\"\n",
        "    주어진 보상 시퀀스를 할인율(gamma)을 적용하여 누적 보상(Return)으로 변환\n",
        "    (마지막 보상부터 거꾸로 계산)\n",
        "    \"\"\"\n",
        "    Returns = []    # 각 시점의 할인 보상 G_t 저장\n",
        "    G = 0              # 누적 보상 초기값\n",
        "    # 보상을 역순으로 순회하며 할인 보상 계산\n",
        "    for r in rewards[::-1]:\n",
        "        G = r + gamma * G      # G_t = r_t + γ * G_{t+1}\n",
        "        Returns.append(G)\n",
        "\n",
        "    # 계산된 리스트를 역순으로 뒤집어서 원래 시점 순서로 복원\n",
        "    Returns = np.array(Returns[::-1], dtype=np.float64)\n",
        "\n",
        "    # 보상 정규화 (평균 0, 표준편차 1로 스케일링) → 학습 안정성과 수렴 속도 개선\n",
        "    Returns = (Returns - np.mean(Returns)) / (np.std(Returns) + 1e-8)\n",
        "\n",
        "    return Returns"
      ]
    },
    {
      "cell_type": "markdown",
      "id": "48d9655c",
      "metadata": {
        "id": "48d9655c"
      },
      "source": [
        "### main algorithm 작성 / Train"
      ]
    },
    {
      "cell_type": "code",
      "execution_count": 22,
      "id": "b6a699c1",
      "metadata": {
        "colab": {
          "base_uri": "https://localhost:8080/"
        },
        "id": "b6a699c1",
        "outputId": "a84fd9da-e1fc-43d8-d07b-04203158c394"
      },
      "outputs": [
        {
          "output_type": "stream",
          "name": "stdout",
          "text": [
            "episode 100,  최근 100 episode 평균 reward  25.47\n",
            "episode 200,  최근 100 episode 평균 reward  27.61\n",
            "episode 300,  최근 100 episode 평균 reward  29.45\n",
            "episode 400,  최근 100 episode 평균 reward  32.09\n",
            "episode 500,  최근 100 episode 평균 reward  31.89\n",
            "episode 600,  최근 100 episode 평균 reward  38.69\n",
            "episode 700,  최근 100 episode 평균 reward  36.08\n",
            "episode 800,  최근 100 episode 평균 reward  43.63\n",
            "episode 900,  최근 100 episode 평균 reward  42.87\n",
            "episode 1000,  최근 100 episode 평균 reward  43.27\n",
            "episode 1100,  최근 100 episode 평균 reward  42.20\n",
            "episode 1200,  최근 100 episode 평균 reward  45.18\n",
            "episode 1300,  최근 100 episode 평균 reward  49.03\n",
            "episode 1400,  최근 100 episode 평균 reward  43.19\n",
            "episode 1500,  최근 100 episode 평균 reward  49.72\n",
            "episode 1600,  최근 100 episode 평균 reward  49.76\n",
            "episode 1700,  최근 100 episode 평균 reward  57.79\n",
            "episode 1800,  최근 100 episode 평균 reward  61.17\n",
            "episode 1900,  최근 100 episode 평균 reward  58.70\n",
            "episode 2000,  최근 100 episode 평균 reward  62.24\n",
            "episode 2100,  최근 100 episode 평균 reward  72.01\n",
            "episode 2200,  최근 100 episode 평균 reward  85.09\n",
            "episode 2300,  최근 100 episode 평균 reward  84.37\n",
            "episode 2400,  최근 100 episode 평균 reward  79.76\n",
            "episode 2500,  최근 100 episode 평균 reward  83.13\n",
            "episode 2600,  최근 100 episode 평균 reward  99.38\n",
            "episode 2700,  최근 100 episode 평균 reward  94.63\n",
            "episode 2800,  최근 100 episode 평균 reward  110.67\n",
            "episode 2900,  최근 100 episode 평균 reward  119.02\n",
            "episode 3000,  최근 100 episode 평균 reward  127.42\n",
            "episode 3100,  최근 100 episode 평균 reward  146.53\n",
            "episode 3200,  최근 100 episode 평균 reward  146.38\n",
            "episode 3300,  최근 100 episode 평균 reward  151.74\n",
            "episode 3400,  최근 100 episode 평균 reward  148.77\n",
            "episode 3500,  최근 100 episode 평균 reward  170.59\n",
            "episode 3600,  최근 100 episode 평균 reward  171.93\n",
            "episode 3700,  최근 100 episode 평균 reward  183.22\n",
            "episode 3800,  최근 100 episode 평균 reward  186.98\n",
            "episode 3900,  최근 100 episode 평균 reward  172.55\n",
            "episode 4000,  최근 100 episode 평균 reward  198.49\n",
            "episode 4100,  최근 100 episode 평균 reward  195.42\n",
            "episode 4200,  최근 100 episode 평균 reward  195.30\n",
            "episode 4300,  최근 100 episode 평균 reward  204.23\n",
            "episode 4400,  최근 100 episode 평균 reward  186.88\n",
            "episode 4500,  최근 100 episode 평균 reward  214.80\n",
            "episode 4600,  최근 100 episode 평균 reward  223.27\n",
            "episode 4700,  최근 100 episode 평균 reward  210.34\n",
            "episode 4800,  최근 100 episode 평균 reward  228.73\n",
            "episode 4900,  최근 100 episode 평균 reward  229.18\n"
          ]
        }
      ],
      "source": [
        "start_time = time.time()     # 학습 시작 시간 기록\n",
        "batch_rewards = []            # 배치 내 모든 상태의 할인 보상 저장\n",
        "batch_actions = []             # 배치 내 모든 상태에서의 행동 저장\n",
        "batch_states = []              # 배치 내 모든 상태 저장\n",
        "batch_counter = 0           # 배치 내 에피소드 개수 카운터\n",
        "\n",
        "# While episode n < N do:\n",
        "for episode in range(N):\n",
        "\n",
        "    # 환경 초기화\n",
        "    s, info = env.reset()\n",
        "\n",
        "    # 현재 에피소드의 상태, 보상, 행동 저장용 리스트\n",
        "    states, rewards, actions = [], [], []\n",
        "\n",
        "    done = False\n",
        "    # Generate an episode: s0, a0, r0, ... st, at, rt following policy pi(a|s, θ)\n",
        "    while not done:\n",
        "        # 정책 네트워크에서 행동 확률 분포 계산\n",
        "        probs = pi(torch.as_tensor(s, dtype=torch.float32, device=device)) \\\n",
        "                    .detach().cpu().numpy()\n",
        "        # 확률 분포에 따라 행동 샘플링\n",
        "        a = np.random.choice(action_space, p=probs)\n",
        "\n",
        "        # 환경에 행동 적용 → 다음 상태, 보상, 종료 여부 반환\n",
        "        s_, r, terminated, truncated, info = env.step(int(a))\n",
        "        done = terminated or truncated  # 종료 여부 판정\n",
        "\n",
        "        # 현재 step의 경험 저장\n",
        "        states.append(s)\n",
        "        rewards.append(r)\n",
        "        actions.append(a)\n",
        "\n",
        "        # 상태 업데이트\n",
        "        s = s_\n",
        "\n",
        "        # 에피소드 종료 시 처리\n",
        "        if done:\n",
        "            # 1) 보상 시퀀스 → 할인 보상(Return)으로 변환\n",
        "            batch_rewards.extend(discount_rewards(rewards))\n",
        "            batch_states.extend(states)\n",
        "            batch_actions.extend(actions)\n",
        "            batch_counter += 1\n",
        "            total_rewards.append(sum(rewards))  # 에피소드 총 보상 저장\n",
        "\n",
        "            # 2) 배치 크기만큼 데이터가 쌓이면 정책 네트워크 업데이트\n",
        "            if batch_counter == batch_size:\n",
        "                # 상태, 보상, 행동 → 텐서 변환\n",
        "                state_tensor = torch.FloatTensor(batch_states).to(device)\n",
        "                reward_tensor = torch.FloatTensor(batch_rewards).to(device)\n",
        "                action_tensor = torch.LongTensor(batch_actions).to(device)\n",
        "\n",
        "                # 정책 로그 확률 계산\n",
        "                log_prob = torch.log(pi(state_tensor))\n",
        "\n",
        "                # 수행한 행동에 해당하는 로그 확률만 선택 후, 할인 보상 곱하기\n",
        "                selected_log_probs = reward_tensor * \\\n",
        "                    torch.gather(log_prob, 1, action_tensor.unsqueeze(1)).squeeze()\n",
        "\n",
        "                # 정책 경사도의 손실 함수: L(θ) = - 평균[ G_t * log π(a|s, θ) ]\n",
        "                loss = -1 * selected_log_probs.mean()\n",
        "\n",
        "                # 정책 네트워크 파라미터 업데이트\n",
        "                optimizer.zero_grad()\n",
        "                loss.backward()\n",
        "                # 그래디언트 클리핑 (폭주 방지)\n",
        "                torch.nn.utils.clip_grad_norm_(pi.parameters(), max_norm=1.0)\n",
        "                optimizer.step()\n",
        "\n",
        "                # 배치 데이터 초기화\n",
        "                batch_rewards = []\n",
        "                batch_actions = []\n",
        "                batch_states = []\n",
        "                batch_counter = 0  # 카운터 리셋\n",
        "\n",
        "    # 100 에피소드마다 최근 100개 평균 보상 출력\n",
        "    if episode % 100 == 0 and len(total_rewards) >= 100:\n",
        "        avg_score = float(np.mean(total_rewards[-100:]))\n",
        "        print(f'episode {episode},  최근 100 episode 평균 reward {avg_score: .2f}')\n",
        "\n",
        "# 환경 종료\n",
        "env.close()"
      ]
    },
    {
      "cell_type": "markdown",
      "id": "8840559f",
      "metadata": {
        "id": "8840559f"
      },
      "source": [
        "### reward 변화 시각화"
      ]
    },
    {
      "cell_type": "code",
      "execution_count": 23,
      "id": "d4f361c8",
      "metadata": {
        "colab": {
          "base_uri": "https://localhost:8080/",
          "height": 470
        },
        "id": "d4f361c8",
        "outputId": "b2e69e9b-f595-4505-87aa-330361ab7e20"
      },
      "outputs": [
        {
          "output_type": "stream",
          "name": "stdout",
          "text": [
            "duration =  3.598790717124939 minutes\n"
          ]
        },
        {
          "output_type": "display_data",
          "data": {
            "text/plain": [
              "<Figure size 640x480 with 1 Axes>"
            ],
            "image/png": "[encoded data removed]"
          },
          "metadata": {}
        }
      ],
      "source": [
        "# 학습 소요 시간 출력 (분 단위)\n",
        "print(\"duration = \", (time.time() - start_time) / 60, \"minutes\")\n",
        "\n",
        "# 최근 100 에피소드 평균 보상을 저장할 배열 초기화\n",
        "running_avg = np.zeros(len(total_rewards))\n",
        "\n",
        "# 각 에피소드별 최근 100개 평균 보상 계산\n",
        "for i in range(len(running_avg)):\n",
        "    # i번째까지의 보상 중, 최대 100개 구간의 평균을 계산\n",
        "    running_avg[i] = np.mean(total_rewards[max(0, i-100):(i+1)])\n",
        "\n",
        "# 러닝 평균 보상 그래프 출력\n",
        "plt.plot(running_avg)\n",
        "plt.title('Running average of previous 100 rewards')  # 그래프 제목\n",
        "plt.show()"
      ]
    },
    {
      "cell_type": "markdown",
      "id": "4qxsHHDlOW82",
      "metadata": {
        "id": "4qxsHHDlOW82"
      },
      "source": [
        "### 이미 학습되어 저장된 model load"
      ]
    },
    {
      "cell_type": "markdown",
      "id": "2f5d550b",
      "metadata": {
        "id": "2f5d550b"
      },
      "source": [
        "### Animate it with Video"
      ]
    },
    {
      "cell_type": "code",
      "source": [
        "from pyvirtualdisplay import Display\n",
        "import glob\n",
        "from IPython.display import HTML\n",
        "\n",
        "# 동영상(mp4 등)을 base64로 인코딩하기 위한 모듈\n",
        "from base64 import b64encode\n",
        "\n",
        "# Gymnasium 환경에서 에피소드 실행 영상을 녹화하는 래퍼\n",
        "from gymnasium.wrappers import RecordVideo\n",
        "\n",
        "# 가상 디스플레이 시작 (Colab이나 서버 환경에서 영상 렌더링용)\n",
        "display = Display(visible=0, size=(1400, 900))\n",
        "display.start()\n",
        "\n",
        "# MP4 영상을 HTML로 변환하여 노트북에 표시하는 함수\n",
        "def render_mp4(videopath: str, width: int = 400) -> HTML:\n",
        "    \"\"\"\n",
        "    지정된 경로(videopath)의 mp4 파일을 base64 인코딩하여\n",
        "    HTML video 태그로 반환 (Jupyter/Colab에서 영상 재생 가능)\n",
        "    \"\"\"\n",
        "    mp4 = open(videopath, 'rb').read()            # mp4 파일 읽기\n",
        "    b64 = b64encode(mp4).decode('ascii')          # base64 인코딩\n",
        "    return HTML(\n",
        "        f'<video width=\"{width}\" controls>'       # HTML video 태그 생성\n",
        "        f'<source src=\"data:video/mp4;base64,{b64}\" type=\"video/mp4\"></video>'\n",
        "    )\n",
        "\n",
        "# 환경 준비\n",
        "# render_mode='rgb_array'로 설정해야 RecordVideo가 동작 가능\n",
        "env = gym.make(ENV_NAME, render_mode='rgb_array')\n",
        "\n",
        "# 비디오 기록을 위한 래퍼(wrapper) 적용\n",
        "# video_folder에 저장, episode_trigger=lambda e: True → 모든 에피소드 기록\n",
        "env = RecordVideo(env, video_folder=\"videos\", episode_trigger=lambda e: True)\n",
        "\n",
        "# 행동(action) 공간 설정 (예: [0, 1])\n",
        "action_space = np.arange(env.action_space.n)\n",
        "\n",
        "# 에피소드 실행\n",
        "state, info = env.reset()  # Gymnasium: reset() → (state, info) 반환\n",
        "done = False\n",
        "while not done:\n",
        "    # 현재 상태(state)를 기반으로 정책 네트워크(pi)에서 행동 확률 계산\n",
        "    with torch.no_grad():\n",
        "        probs = pi(torch.as_tensor(state, dtype=torch.float32, device=device)) \\\n",
        "                    .detach().cpu().numpy()\n",
        "\n",
        "    # 확률 분포(probs)에 따라 행동 선택\n",
        "    a = int(np.random.choice(action_space, p=probs))\n",
        "\n",
        "    # 환경에서 선택한 행동 실행\n",
        "    next_state, reward, terminated, truncated, info = env.step(a)\n",
        "    done = terminated or truncated      # 종료 조건 (목표 도달 or 시간 초과)\n",
        "\n",
        "    # 상태 갱신\n",
        "    state = next_state\n",
        "\n",
        "# 환경 종료 (비디오 기록 완료)\n",
        "env.close()\n",
        "\n",
        "# 저장된 비디오 중 가장 최근 파일 찾기\n",
        "latest_video = max(glob.glob(os.path.join(\"videos\", \"*.mp4\")), key=os.path.getctime)\n",
        "\n",
        "# Jupyter/Colab에서 비디오 재생\n",
        "render_mp4(latest_video, width=600)"
      ],
      "metadata": {
        "colab": {
          "base_uri": "https://localhost:8080/",
          "height": 476
        },
        "id": "CxomrUbOJGPx",
        "outputId": "5c1d9b7e-9f30-43da-fb34-a149d5ef1196"
      },
      "id": "CxomrUbOJGPx",
      "execution_count": 24,
      "outputs": [
        {
          "output_type": "stream",
          "name": "stderr",
          "text": [
            "/usr/local/lib/python3.11/dist-packages/gymnasium/wrappers/rendering.py:296: UserWarning: \u001b[33mWARN: Overwriting existing videos at /content/videos folder (try specifying a different `video_folder` for the `RecordVideo` wrapper if this is not desired)\u001b[0m\n",
            "  logger.warn(\n"
          ]
        },
        {
          "output_type": "execute_result",
          "data": {
            "text/plain": [
              "<IPython.core.display.HTML object>"
            ],
            "text/html": [
              "<video width=\"600\" controls><source src=\"data:video/mp4;base64,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\" type=\"video/mp4\"></video>"
            ]
          },
          "metadata": {},
          "execution_count": 24
        }
      ]
    },
    {
      "cell_type": "code",
      "execution_count": null,
      "id": "cd3989ad",
      "metadata": {
        "id": "cd3989ad"
      },
      "outputs": [],
      "source": []
    }
  ],
  "metadata": {
    "accelerator": "GPU",
    "colab": {
      "gpuType": "T4",
      "provenance": []
    },
    "kernelspec": {
      "display_name": "Python 3 (ipykernel)",
      "language": "python",
      "name": "python3"
    },
    "language_info": {
      "codemirror_mode": {
        "name": "ipython",
        "version": 3
      },
      "file_extension": ".py",
      "mimetype": "text/x-python",
      "name": "python",
      "nbconvert_exporter": "python",
      "pygments_lexer": "ipython3",
      "version": "3.9.0"
    }
  },
  "nbformat": 4,
  "nbformat_minor": 5
}