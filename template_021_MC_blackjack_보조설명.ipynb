{
 "cells": [
  {
   "cell_type": "markdown",
   "id": "a3d139ac-07a7-4da8-a85c-60f4a31a2d5f",
   "metadata": {},
   "source": [
    "## np.meshgrid 이해"
   ]
  },
  {
   "cell_type": "code",
   "execution_count": null,
   "id": "6c0cad3f",
   "metadata": {},
   "outputs": [],
   "source": []
  },
  {
   "cell_type": "code",
   "execution_count": null,
   "id": "25ddd599",
   "metadata": {},
   "outputs": [],
   "source": [
    "# 플레이어의 카드 합계"
   ]
  },
  {
   "cell_type": "code",
   "execution_count": null,
   "id": "2fb707bb",
   "metadata": {},
   "outputs": [],
   "source": [
    "# 딜러의 공개 카드"
   ]
  },
  {
   "cell_type": "markdown",
   "id": "53f042d0-a9da-4b51-8912-7e59cc215f16",
   "metadata": {},
   "source": [
    "## np.dstack 이해"
   ]
  },
  {
   "cell_type": "code",
   "execution_count": null,
   "id": "d94d4006",
   "metadata": {},
   "outputs": [],
   "source": [
    "# (플레이어 카드합계, 딜러 공개 카드) pair 생성"
   ]
  },
  {
   "cell_type": "markdown",
   "id": "dccb7711-0415-422c-be2e-633daddd7434",
   "metadata": {},
   "source": [
    "## defaultdict 이해\n",
    "\n",
    "defaultdict는 Python의 collections 모듈에서 제공하는 딕셔너리 서브클래스입니다. defaultdict는 일반적인 딕셔너리와 유사하지만, 존재하지 않는 키를 조회할 때 KeyError를 발생시키는 대신, 기본값을 반환하도록 설정할 수 있습니다. 이를 통해 코드의 간결성과 가독성을 높일 수 있습니다.  \n",
    "\n",
    "키가 존재하지 않는 경우, defaultdict는 지정된 기본값을 자동으로 초기화하여 추가합니다. 따라서 키 존재 여부를 확인하거나 미리 초기화할 필요가 없습니다."
   ]
  },
  {
   "cell_type": "code",
   "execution_count": null,
   "id": "fb2d9015",
   "metadata": {},
   "outputs": [],
   "source": []
  },
  {
   "cell_type": "code",
   "execution_count": null,
   "id": "379dec61",
   "metadata": {},
   "outputs": [],
   "source": []
  },
  {
   "cell_type": "code",
   "execution_count": null,
   "id": "3f973d47",
   "metadata": {},
   "outputs": [],
   "source": [
    "# V를 defaultdict로 정의하고 임의의 값으로 초기화"
   ]
  },
  {
   "cell_type": "markdown",
   "id": "6fe1ea79-c797-4a0d-a807-5fb0e21352df",
   "metadata": {},
   "source": [
    "- 플레이어의 카드 합계(X)와 딜러의 공개 카드(Y)의 모든 조합에 대해, usable ace(사용 가능한 에이스)가 없는 상태를 가정하고,\n",
    "해당 상태에서의 가치 함수 값 `V[(player_sum, dealer_card, False)]`를 구한 뒤, 그 결과를 2차원 배열(no_usable_ace)로 저장한다.\n",
    "- 이 2차원 배열의 각 위치는 `플레이어의 카드 합(12~21)`과 `딜러의 공개 카드(1~10)`의 조합에 대해, usable ace가 없을 때 해당 상태의 가치 함수 값을 나타냅니다.\n",
    "```\n",
    "np.apply_along_axis(func1d, axis, arr, *args, **kwargs)  \n",
    "  func1d : 입력이 1차원 배열이고, 결과를 반환하는 사용자 정의 함수  \n",
    "  axis : arr에서 어느 축을 따라 함수 적용할지 지정 (예: 0=행, 1=열, 2=depth 등)  \n",
    "  arr : 입력 배열. n차원 배열 가능\n",
    "```"
   ]
  },
  {
   "cell_type": "code",
   "execution_count": null,
   "id": "1bb0e3f9",
   "metadata": {},
   "outputs": [],
   "source": [
    "# 플레이어의 카드 합계와 딜러의 공개 카드를 그리드로 생성\n",
    "# 사용 가능한 에이스가 없는 경우에 대한 가치 함수 값을 계산\n",
    "# V[(player의 hand 합계, dealer 공개 카드, 사용 가능한 에이스 보유)]\n",
    "# 결과 출력"
   ]
  },
  {
   "cell_type": "markdown",
   "id": "2368930b-2efa-41f1-b2e3-11536ec8a0c0",
   "metadata": {},
   "source": [
    "- plot_surface()는 (X, Y) 평면 위의 Z값을 3D로 시각화하는 함수"
   ]
  },
  {
   "cell_type": "code",
   "execution_count": null,
   "id": "f01514fd",
   "metadata": {},
   "outputs": [],
   "source": [
    "# 3D 그래프를 위한 플롯 생성 (1행 1열, 3D 서브플롯)\n",
    "# 3D 표면 그래프 그리기\n",
    "# X: 플레이어 합계, Y: 딜러 공개 카드, Z: 해당 상태의 가치 함수 값\n",
    "# x축 라벨: 플레이어 카드 합\n",
    "# y축 라벨: 딜러의 오픈 카드\n",
    "# z축 라벨: 몬테카를로로 추정한 상태 가치"
   ]
  },
  {
   "cell_type": "code",
   "execution_count": null,
   "id": "3d579992",
   "metadata": {},
   "outputs": [],
   "source": []
  }
 ],
 "metadata": {
  "kernelspec": {
   "display_name": "Python 3 (ipykernel)",
   "language": "python",
   "name": "python3"
  },
  "language_info": {
   "codemirror_mode": {
    "name": "ipython",
    "version": 3
   },
   "file_extension": ".py",
   "mimetype": "text/x-python",
   "name": "python",
   "nbconvert_exporter": "python",
   "pygments_lexer": "ipython3",
   "version": "3.9.0"
  }
 },
 "nbformat": 4,
 "nbformat_minor": 5
}
