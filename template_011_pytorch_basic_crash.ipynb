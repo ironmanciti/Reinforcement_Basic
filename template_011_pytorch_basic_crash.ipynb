{
 "cells": [
  {
   "cell_type": "markdown",
   "id": "4bf87f24",
   "metadata": {
    "id": "bptrBsIN0aIK"
   },
   "source": [
    "# 011. PyTorch basic Crash\n",
    "\n",
    "- GPU 필요하므로 Colab 에서 실행"
   ]
  },
  {
   "cell_type": "code",
   "execution_count": null,
   "id": "e007335d",
   "metadata": {},
   "outputs": [],
   "source": []
  },
  {
   "cell_type": "code",
   "execution_count": null,
   "id": "9b83e657",
   "metadata": {},
   "outputs": [],
   "source": []
  },
  {
   "cell_type": "markdown",
   "id": "3acb6576",
   "metadata": {
    "id": "FYOdFDxP0aIR"
   },
   "source": [
    "## Tensor Data Types\n",
    "\n",
    "<img src=\"https://miro.medium.com/max/875/1*-C10tKbZ2h0Zd7maau86oQ.png\" height=\"400\" />"
   ]
  },
  {
   "cell_type": "markdown",
   "id": "0e294c19",
   "metadata": {
    "id": "hDMoQIgGV10z"
   },
   "source": [
    "### torch.tensor 함수\n",
    "\n",
    "`tensor(data, dtype=None, device=None, requires_grad=False) -> Tensor`\n",
    "\n",
    "     data (array_like): list, tuple, numpy ndarray, scalar, and other types.\n",
    "     dtype :  `None`인 경우 `data`에서 데이터 유형을 유추합니다.  \n",
    "     device : `cpu`, `cuda`  \n",
    "     require_grad(bool, optional): autograd가 작업을 기록해야 하는 경우"
   ]
  },
  {
   "cell_type": "markdown",
   "id": "393471da",
   "metadata": {
    "id": "3_x6xXPPV100"
   },
   "source": [
    "Float torch tensor 생성"
   ]
  },
  {
   "cell_type": "code",
   "execution_count": null,
   "id": "471ed9bc",
   "metadata": {},
   "outputs": [],
   "source": [
    "# numpy array 생성\n",
    "# tensor  생성\n",
    "# dtype"
   ]
  },
  {
   "cell_type": "code",
   "execution_count": null,
   "id": "6e039669",
   "metadata": {},
   "outputs": [],
   "source": [
    "# numpy 생성\n",
    "# tensor 생성\n",
    "# dtype"
   ]
  },
  {
   "cell_type": "markdown",
   "id": "88898bb9",
   "metadata": {
    "id": "77WegQUXV102"
   },
   "source": [
    "Integer tensor 생성"
   ]
  },
  {
   "cell_type": "code",
   "execution_count": null,
   "id": "c7a167d0",
   "metadata": {},
   "outputs": [],
   "source": []
  },
  {
   "cell_type": "code",
   "execution_count": null,
   "id": "823153d9",
   "metadata": {},
   "outputs": [],
   "source": []
  },
  {
   "cell_type": "markdown",
   "id": "c09ee5b5",
   "metadata": {
    "id": "NtdNbgjR0aIU"
   },
   "source": [
    "## 1D Tensor Operation\n",
    "\n",
    "### tensor 생성"
   ]
  },
  {
   "cell_type": "code",
   "execution_count": null,
   "id": "82e0055e",
   "metadata": {},
   "outputs": [],
   "source": []
  },
  {
   "cell_type": "code",
   "execution_count": null,
   "id": "58eacfa8",
   "metadata": {},
   "outputs": [],
   "source": []
  },
  {
   "cell_type": "code",
   "execution_count": null,
   "id": "ffdff076",
   "metadata": {},
   "outputs": [],
   "source": []
  },
  {
   "cell_type": "code",
   "execution_count": null,
   "id": "e0ec3905",
   "metadata": {},
   "outputs": [],
   "source": []
  },
  {
   "cell_type": "code",
   "execution_count": null,
   "id": "bee69e72",
   "metadata": {},
   "outputs": [],
   "source": [
    "# cpu tensor"
   ]
  },
  {
   "cell_type": "code",
   "execution_count": null,
   "id": "67a0ea18",
   "metadata": {},
   "outputs": [],
   "source": [
    "# gpu tensor"
   ]
  },
  {
   "cell_type": "markdown",
   "id": "dcade26a",
   "metadata": {
    "id": "jx-H1RPX0aIX"
   },
   "source": [
    "### Tensor Type 변환\n",
    "\n",
    "- cpu <--> gpu"
   ]
  },
  {
   "cell_type": "code",
   "execution_count": null,
   "id": "7f46af8a",
   "metadata": {},
   "outputs": [],
   "source": [
    "# cpu tensor"
   ]
  },
  {
   "cell_type": "code",
   "execution_count": null,
   "id": "be98d3b9",
   "metadata": {},
   "outputs": [],
   "source": [
    "# gpu tensor"
   ]
  },
  {
   "cell_type": "code",
   "execution_count": null,
   "id": "9f79e9df",
   "metadata": {},
   "outputs": [],
   "source": []
  },
  {
   "cell_type": "code",
   "execution_count": null,
   "id": "8541bcb8",
   "metadata": {},
   "outputs": [],
   "source": []
  },
  {
   "cell_type": "code",
   "execution_count": null,
   "id": "c8e32f32",
   "metadata": {},
   "outputs": [],
   "source": [
    "# cpu tensor"
   ]
  },
  {
   "cell_type": "code",
   "execution_count": null,
   "id": "2a8af16e",
   "metadata": {},
   "outputs": [],
   "source": []
  },
  {
   "cell_type": "markdown",
   "id": "bab64be8",
   "metadata": {
    "id": "6yb70D7F0aIa"
   },
   "source": [
    "### Tensor 생성\n",
    "\n",
    "- 무작위로 초기화된 행렬 생성 (uniform distribution)"
   ]
  },
  {
   "cell_type": "code",
   "execution_count": null,
   "id": "b802545a",
   "metadata": {},
   "outputs": [],
   "source": []
  },
  {
   "cell_type": "markdown",
   "id": "4e862fb9",
   "metadata": {
    "id": "XdplE1BX0aIb"
   },
   "source": [
    "- dtype이 long이고 0으로 채워진 행렬 생성"
   ]
  },
  {
   "cell_type": "code",
   "execution_count": null,
   "id": "9bbe17ac",
   "metadata": {},
   "outputs": [],
   "source": []
  },
  {
   "cell_type": "markdown",
   "id": "5c111cea",
   "metadata": {
    "id": "RX0uBf2g0aIc"
   },
   "source": [
    "- python list로 부터 tensor 생성"
   ]
  },
  {
   "cell_type": "code",
   "execution_count": null,
   "id": "441222cf",
   "metadata": {},
   "outputs": [],
   "source": []
  },
  {
   "cell_type": "code",
   "execution_count": null,
   "id": "a43a7cfe",
   "metadata": {},
   "outputs": [],
   "source": []
  },
  {
   "cell_type": "code",
   "execution_count": null,
   "id": "125b58ea",
   "metadata": {},
   "outputs": [],
   "source": []
  },
  {
   "cell_type": "markdown",
   "id": "0aade93f",
   "metadata": {
    "id": "0CWwLRBuc8LU"
   },
   "source": [
    "torch.LongTensor --> torch.long, torch.int64"
   ]
  },
  {
   "cell_type": "code",
   "execution_count": null,
   "id": "8fa5c290",
   "metadata": {},
   "outputs": [],
   "source": []
  },
  {
   "cell_type": "code",
   "execution_count": null,
   "id": "befedf7e",
   "metadata": {},
   "outputs": [],
   "source": []
  },
  {
   "cell_type": "code",
   "execution_count": null,
   "id": "f7724ff1",
   "metadata": {},
   "outputs": [],
   "source": []
  },
  {
   "cell_type": "markdown",
   "id": "73e56cd6",
   "metadata": {
    "id": "_F_MBE6Y0aId"
   },
   "source": [
    "## Tensor 의 shape & dimension (rank)"
   ]
  },
  {
   "cell_type": "code",
   "execution_count": null,
   "id": "a633ab97",
   "metadata": {},
   "outputs": [],
   "source": []
  },
  {
   "cell_type": "code",
   "execution_count": null,
   "id": "b3580dc9",
   "metadata": {},
   "outputs": [],
   "source": [
    "# size() 와 shape 은 alias"
   ]
  },
  {
   "cell_type": "code",
   "execution_count": null,
   "id": "82b5e814",
   "metadata": {},
   "outputs": [],
   "source": []
  },
  {
   "cell_type": "markdown",
   "id": "ee91d6d3",
   "metadata": {
    "id": "HV3UkTgU0aIf"
   },
   "source": [
    "## torch.view : original tensor의 memory 공유"
   ]
  },
  {
   "cell_type": "code",
   "execution_count": null,
   "id": "7c0fc23f",
   "metadata": {},
   "outputs": [],
   "source": []
  },
  {
   "cell_type": "markdown",
   "id": "bd91f9a9",
   "metadata": {
    "id": "SOr0fUj50aIg"
   },
   "source": [
    "## numpy 와 tensor 간의 호환성\n",
    "\n",
    "- memory 를 공유하므로 하나를 수정하면 나머지에 모두 반영  "
   ]
  },
  {
   "cell_type": "code",
   "execution_count": null,
   "id": "921d7fc3",
   "metadata": {},
   "outputs": [],
   "source": []
  },
  {
   "cell_type": "code",
   "execution_count": null,
   "id": "0fa5da18",
   "metadata": {},
   "outputs": [],
   "source": []
  },
  {
   "cell_type": "code",
   "execution_count": null,
   "id": "8707321d",
   "metadata": {},
   "outputs": [],
   "source": []
  },
  {
   "cell_type": "code",
   "execution_count": null,
   "id": "6cbae30e",
   "metadata": {},
   "outputs": [],
   "source": []
  },
  {
   "cell_type": "markdown",
   "id": "80ab9f5d",
   "metadata": {
    "id": "M7tI-oW-0aIi"
   },
   "source": [
    "## Scalar value\n",
    "\n",
    "- 만약 tensor에 하나의 값만 존재한다면, ``.item()`` method를 사용하여 숫자 값을 얻을 수 있습니다.  "
   ]
  },
  {
   "cell_type": "code",
   "execution_count": null,
   "id": "3bc4890f",
   "metadata": {},
   "outputs": [],
   "source": []
  },
  {
   "cell_type": "code",
   "execution_count": null,
   "id": "d0640294",
   "metadata": {},
   "outputs": [],
   "source": []
  },
  {
   "cell_type": "markdown",
   "id": "953e4662",
   "metadata": {
    "id": "79_l6-6Jr3A4"
   },
   "source": [
    "- tensor 가 array 형태인 경우 `numpy()` method 를 통해 ndarray 반환"
   ]
  },
  {
   "cell_type": "code",
   "execution_count": null,
   "id": "b0b524aa",
   "metadata": {},
   "outputs": [],
   "source": []
  },
  {
   "cell_type": "markdown",
   "id": "be0fdf47",
   "metadata": {
    "id": "rId3CNLU0aIx"
   },
   "source": [
    "### torch.sum, torch.max, torch.min, torch.argmax, torch.argmin\n",
    "\n",
    "- torch.sum(input, dim, keepdim=False, dtype=None) → Tensor  \n",
    "주어진 차원 dim에서 입력 텐서의 각 행의 합(max, min)을 반환합니다.\n",
    "\n",
    "- dim 을 지정한 경우, 지정된 dim을 축소하는 것입니다. 따라서 dim 0(행)을 접으면 하나의 행이 됩니다(열 단위로 합산)."
   ]
  },
  {
   "cell_type": "code",
   "execution_count": null,
   "id": "b17b9692",
   "metadata": {},
   "outputs": [],
   "source": []
  },
  {
   "cell_type": "code",
   "execution_count": null,
   "id": "79725083",
   "metadata": {},
   "outputs": [],
   "source": []
  },
  {
   "cell_type": "code",
   "execution_count": null,
   "id": "177fa34b",
   "metadata": {},
   "outputs": [],
   "source": []
  },
  {
   "cell_type": "code",
   "execution_count": null,
   "id": "36f733fa",
   "metadata": {},
   "outputs": [],
   "source": []
  },
  {
   "cell_type": "code",
   "execution_count": null,
   "id": "384cc5ab",
   "metadata": {},
   "outputs": [],
   "source": []
  },
  {
   "cell_type": "code",
   "execution_count": null,
   "id": "47730c65",
   "metadata": {},
   "outputs": [],
   "source": []
  },
  {
   "cell_type": "markdown",
   "id": "622ed5f9",
   "metadata": {
    "id": "tgHEtRawmKz5"
   },
   "source": [
    "# Backpropagation 과 경사하강법 적용\n",
    "\n",
    "- weight 와 bias를 스스로 학습\n",
    "- (습도, 강수량, 최고온도, 최저온도)를 feature 로 입력 받아  (사과, 오렌지)의 수확량(label)을 선형회귀로 예측하는 model 작성"
   ]
  },
  {
   "cell_type": "code",
   "execution_count": null,
   "id": "acb1a5bd",
   "metadata": {},
   "outputs": [],
   "source": [
    "# Input (습도, 강수량, 최고온도, 최저온도)\n",
    "# Targets - (apples, oranges) 수확량"
   ]
  },
  {
   "cell_type": "markdown",
   "id": "101ded7f",
   "metadata": {
    "id": "mSAENrkAmWHC"
   },
   "source": [
    "- input 과 target을 tensor로 변환"
   ]
  },
  {
   "cell_type": "code",
   "execution_count": null,
   "id": "b87658af",
   "metadata": {},
   "outputs": [],
   "source": []
  },
  {
   "cell_type": "code",
   "execution_count": null,
   "id": "a07d6346",
   "metadata": {},
   "outputs": [],
   "source": []
  },
  {
   "cell_type": "code",
   "execution_count": null,
   "id": "f7ef71d9",
   "metadata": {},
   "outputs": [],
   "source": [
    "# 입력 특징의 크기가 4이고 출력 특징의 크기가 2인 선형 모델을 정의합니다."
   ]
  },
  {
   "cell_type": "code",
   "execution_count": null,
   "id": "05910dc1",
   "metadata": {},
   "outputs": [],
   "source": [
    "# 손실 함수로 평균 제곱 오차(MSE)를 정의합니다.\n",
    "# 모델의 매개변수를 최적화하기 위해 확률적 경사 하강법(SGD) 옵티마이저를 정의합니다.\n",
    "# 학습률(lr)은 1e-4로 설정합니다."
   ]
  },
  {
   "cell_type": "code",
   "execution_count": null,
   "id": "aa0f90a6",
   "metadata": {},
   "outputs": [],
   "source": []
  },
  {
   "cell_type": "code",
   "execution_count": null,
   "id": "6a83e984",
   "metadata": {},
   "outputs": [],
   "source": [
    "# 모델에 전체 입력 데이터를 전달하여 예측값(preds)을 얻습니다.\n",
    "# 예측값(preds)과 실제 타겟값(targets)을 비교하여 손실(loss)을 계산합니다."
   ]
  },
  {
   "cell_type": "code",
   "execution_count": null,
   "id": "7b1ad0c2",
   "metadata": {},
   "outputs": [],
   "source": [
    "# Predictions & target 비교"
   ]
  },
  {
   "cell_type": "code",
   "execution_count": null,
   "id": "8875d547",
   "metadata": {},
   "outputs": [],
   "source": []
  }
 ],
 "metadata": {
  "accelerator": "GPU",
  "colab": {
   "gpuType": "T4",
   "provenance": []
  },
  "kernelspec": {
   "display_name": "Python 3 (ipykernel)",
   "language": "python",
   "name": "python3"
  },
  "language_info": {
   "codemirror_mode": {
    "name": "ipython",
    "version": 3
   },
   "file_extension": ".py",
   "mimetype": "text/x-python",
   "name": "python",
   "nbconvert_exporter": "python",
   "pygments_lexer": "ipython3",
   "version": "3.9.7"
  }
 },
 "nbformat": 4,
 "nbformat_minor": 5
}
